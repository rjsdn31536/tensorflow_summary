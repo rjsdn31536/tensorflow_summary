{
 "cells": [
  {
   "cell_type": "markdown",
   "metadata": {},
   "source": [
    "# Matrix\n",
    " 머신러닝에서는 학습시 행렬 연산을 굉장히 많이 사용한다. 텐서플로우 또한 이를 위한 프레임워크이므로 많이 사용한다. 텐서플로우에서의 행렬 표현 및 연산을 알아보자.\n"
   ]
  },
  {
   "cell_type": "markdown",
   "metadata": {},
   "source": [
    "- - -\n",
    "# 행렬의 표현"
   ]
  },
  {
   "cell_type": "code",
   "execution_count": 4,
   "metadata": {},
   "outputs": [
    {
     "name": "stdout",
     "output_type": "stream",
     "text": [
      "(1, 3)\n",
      "[[12.]]\n"
     ]
    }
   ],
   "source": [
    "import tensorflow as tf\n",
    "\n",
    "# x는 1x3 행렬\n",
    "x = tf.constant([ [1.0,2.0,3.0] ])\n",
    "\n",
    "# w는 3*1 행렬\n",
    "w = tf.constant([ [2.0],[2.0],[2.0] ])\n",
    "\n",
    "# tensorflow에서의 행렬 곱!\n",
    "y = tf.matmul(x,w)\n",
    "print(x.get_shape())\n",
    "\n",
    "sess = tf.Session()\n",
    "init = tf.global_variables_initializer()\n",
    "sess.run(init)\n",
    "result = sess.run(y)\n",
    "print(result)"
   ]
  },
  {
   "cell_type": "markdown",
   "metadata": {},
   "source": [
    "정말 간단한 행렬의 곱이다. get_shape()를 통해 tensor의 행렬 shape를 알아낼 수 있다.\n",
    "<br>또한 matmul을 통해서 행렬의 곱을 수행할 수 있다는 것을 확인해주었다."
   ]
  },
  {
   "cell_type": "code",
   "execution_count": 9,
   "metadata": {},
   "outputs": [
    {
     "name": "stdout",
     "output_type": "stream",
     "text": [
      "[[12.]]\n"
     ]
    }
   ],
   "source": [
    "import tensorflow as tf\n",
    "\n",
    "x = tf.Variable([ [1.,2.,3.] ], dtype=tf.float32)\n",
    "w = tf.constant([ [2.],[2.],[2.]], dtype=tf.float32)\n",
    "y = tf.matmul(x,w)\n",
    "\n",
    "sess = tf.Session()\n",
    "init = tf.global_variables_initializer()\n",
    "sess.run(init)\n",
    "result = sess.run(y)\n",
    "print(result)"
   ]
  },
  {
   "cell_type": "markdown",
   "metadata": {},
   "source": [
    "특별한 코드는 아니고, constant 말고 variable도 사용이 가능하다는 내용이다."
   ]
  }
 ],
 "metadata": {
  "kernelspec": {
   "display_name": "Python 3",
   "language": "python",
   "name": "python3"
  },
  "language_info": {
   "codemirror_mode": {
    "name": "ipython",
    "version": 3
   },
   "file_extension": ".py",
   "mimetype": "text/x-python",
   "name": "python",
   "nbconvert_exporter": "python",
   "pygments_lexer": "ipython3",
   "version": "3.6.4"
  }
 },
 "nbformat": 4,
 "nbformat_minor": 2
}
